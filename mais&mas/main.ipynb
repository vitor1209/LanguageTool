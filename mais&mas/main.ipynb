{
 "cells": [
  {
   "cell_type": "code",
   "execution_count": null,
   "id": "a3079263",
   "metadata": {},
   "outputs": [],
   "source": [
    "import spacy"
   ]
  },
  {
   "cell_type": "code",
   "execution_count": null,
   "id": "b199980a",
   "metadata": {},
   "outputs": [
    {
     "name": "stdout",
     "output_type": "stream",
     "text": [
      "Defaulting to user installation because normal site-packages is not writeable\n",
      "Collecting pt-core-news-sm==3.8.0\n",
      "  Downloading https://github.com/explosion/spacy-models/releases/download/pt_core_news_sm-3.8.0/pt_core_news_sm-3.8.0-py3-none-any.whl (13.0 MB)\n",
      "     ---------------------------------------- 0.0/13.0 MB ? eta -:--:--\n",
      "     --------------------------------------  12.8/13.0 MB 73.2 MB/s eta 0:00:01\n",
      "     --------------------------------------- 13.0/13.0 MB 50.9 MB/s eta 0:00:00\n",
      "Installing collected packages: pt-core-news-sm\n",
      "Successfully installed pt-core-news-sm-3.8.0\n",
      "\u001b[38;5;2m✔ Download and installation successful\u001b[0m\n",
      "You can now load the package via spacy.load('pt_core_news_sm')\n"
     ]
    },
    {
     "name": "stderr",
     "output_type": "stream",
     "text": [
      "WARNING: Ignoring invalid distribution ~abelimg (c:\\Program Files\\Python311\\Lib\\site-packages)\n",
      "WARNING: Ignoring invalid distribution ~abelimg (c:\\Program Files\\Python311\\Lib\\site-packages)\n",
      "\n",
      "[notice] A new release of pip is available: 25.0.1 -> 25.1.1\n",
      "[notice] To update, run: python.exe -m pip install --upgrade pip\n"
     ]
    }
   ],
   "source": [
    "# !python -m spacy download pt_core_news_sm"
   ]
  },
  {
   "cell_type": "code",
   "execution_count": 64,
   "id": "c3b7d4e5",
   "metadata": {},
   "outputs": [],
   "source": [
    "nlp = spacy.load(\"pt_core_news_sm\")"
   ]
  },
  {
   "cell_type": "code",
   "execution_count": 122,
   "id": "2ce13002",
   "metadata": {},
   "outputs": [],
   "source": [
    "exemplo=\"\"\"\n",
    "No Brasil, a popular série \"Os Simpsons\" é conhecida pela capacidade de refletir sobre questões sociais com uma abordagem crítica e bem-humorada. Em determinado episódio, o personagem Homer se depara com um robô doméstico que, apesar da promessa de facilitar sua vida, acaba complicando-a ainda mas. Esse cenário, embora apresentado de forma cômica, reflete uma preocupação real sobre a integração das tecnologias, especialmente da inteligência artificial (IA), em nossas vidas.\n",
    "A inteligência artificial, vem sendo amplamente desenvolvida nos últimos tempos, e tem potencial para transformar positivamente diversos aspectos da vida. No entanto, sua adoção generalizada e sem controle levanta questões que necessitam ser cuidadosamente analisadas. Um dos principais desafios é o uso irracional da IA por estudantes, que se tornam dependentes dessas tecnologias para resolver problemas limitando seu senso critico, raciocínio lógico e evolução do processo criativo, ao invés de se empenharem na busca de soluções e no desenvolvimento de novas habilidades.\n",
    "Esse comportamento não só afeta o aprendizado individual, como também impacta negativamente o futuro profissional desses estudantes. A falta das habilidades práticas na resolução de problemas pode danificar a capacidade de adaptação com novas situações no ambiente de trabalho. Pois se este aluno não é capaz de explicar o processos da IA para chegar em determinada solução, como o tal teria condições de aplicar este conhecimento em situações diversas? assim como explicou o professor Marco Antonio Moreira, no IV Encontro Internacional sobre Aprendizagem, \"a aprendizagem significativa só acontece quando o aluno é capaz de explicar um novo conhecimento com suas próprias palavras e mostra um esforço deliberado para aprender, tanto cognitiva quanto afetivamente\".\n",
    "Em suma, embora a inteligência artificial tenha o potencial de trazer muitos benefícios, seu uso inadequado pode comprometer a qualidade da educação e a capacidade profissional dos indivíduos. Para mitigar esses riscos, as escolas podem adotar várias estratégias.\n",
    "Uma abordagem eficaz seria incentivar a resolução de problemas não apenas por meio de atividades tradicionais,  também por meio de competições e feiras tecnológicas. O apoio do estado e das instituições educacionais para a participação dos alunos em eventos como essas feiras pode ser crucial. Esse envolvimento pode ajudar os estudantes a desenvolver habilidades práticas e a compreender que a tecnologia deve ser vista como uma ferramenta de suporte, e não como uma muleta. O uso irresponsável da tecnologia pode, de fato, complicar ainda mais sua vida assim você pode se tornar um Homer Simpsons.\"\"\""
   ]
  },
  {
   "cell_type": "code",
   "execution_count": null,
   "id": "42fd3ae1",
   "metadata": {},
   "outputs": [],
   "source": [
    "def identificar_erro(frase):\n",
    "    doc = nlp(frase)\n",
    "    erros = []\n",
    "\n",
    "    for i, token in enumerate(doc):\n",
    "        if token.text.lower() == \"mais\":\n",
    "            if i > 0:\n",
    "                ant = doc[i - 1]\n",
    "                prox = doc[i + 1] if i + 1 < len(doc) else None\n",
    "                # Regra 2 - erro: \"mais\" após vírgula e antes de verbo ou advérbio\n",
    "                if ant.text == \",\" and prox and (prox.pos_ == \"VERB\" or prox.pos_ == \"ADV\"):\n",
    "                    erros.append(\"erro: 'mais' usado como 'mas'\")\n",
    "                else:\n",
    "                    erros.append(\"mais de adição\")\n",
    "\n",
    "        elif token.text.lower() == \"mas\":\n",
    "            pontuacao = ['.', '!', '?', ';']\n",
    "            prox = doc[i + 1] if i + 1 < len(doc) else None\n",
    "            # Regra 1 - erro: 'mas' seguido de substantivo ou adjetivo isolado\n",
    "            if prox and (prox.pos_ in [\"NOUN\"]):\n",
    "                erros.append(\"erro: 'mas' usado como 'mais'\")\n",
    "            # Regra 3 - erro: 'mas' no final da frase\n",
    "            elif i == len(doc) - 1 or (prox and prox.text in pontuacao):\n",
    "                # Só é erro se estiver no final ou antes de pontuação final\n",
    "                erros.append(\"erro: 'mas' no final da frase\")\n",
    "            else:\n",
    "                erros.append(\"mas de contraste\")\n",
    "    \n",
    "    # Se houver erros, retornar todos como lista\n",
    "    if erros:\n",
    "        return erros\n",
    "\n",
    "    return [\"não identificado\"]\n"
   ]
  },
  {
   "cell_type": "code",
   "execution_count": 140,
   "id": "c9dbd699",
   "metadata": {},
   "outputs": [],
   "source": [
    "testes = [\n",
    "    \"Ele queria sair, mas estava cansado.\",# \"mas de contraste\",  0\n",
    "    \"Ele comprou mais frutas do que ontem.\",# \"mais de adição\",  1\n",
    "    \"Ele comprou mas frutas do que ontem.\", # Erro: mas seguido de substantivo  2\n",
    "    \"Ele chegou cedo, mais não ficou muito.\", # Erro: mais após vírgula antes verbo deveria ser mas  3\n",
    "    \"Eu gosto de sorvete, mais também de bolo.\", #erro \"mais de contraste\",  4\n",
    "    \"Quero ir, mas.\",# \"erro obrigatório\",  # mas no final, frase incompleta  5\n",
    "    \"Ele saiu, mas feliz.\", #\"mais de contraste\" estranho mas nao está errado  6\n",
    "    \"Ela disse que viria, mais não veio.\", #\"erro obrigatório\"  7\n",
    "    \"Gostaria de mais café, mas não tem.\", #\"mas de contraste\",   8\n",
    "    \"Ele quer mais paz, mais sabe que não vai.\",# \"mais de adição\",  9\n",
    "    \"Ela queria sair, mas o cansaço venceu.\",# \"mas de contraste\",  10 \n",
    "    \"Você trouxe mais, mas não era suficiente.\",# \"mas de contraste\",  11\n",
    "    \"Ele estudou, mais não passou.\",# \"erro obrigatório\",   12\n",
    "    \"Eu gosto de mais, mais quero menos.\",# \"mais de adição\",  13\n",
    "    \"Eu vi, mas.\", #\"erro obrigatório\",  14\n",
    "    \"Eu quero mais.\", #\"mais de adição\",  # Caso sutil, geralmente erro  15\n",
    "    \"O cachorro, mas corre rápido.\", #\"mas de contraste\"  # Pode confundir, mas correto  16\n",
    "]"
   ]
  },
  {
   "cell_type": "code",
   "execution_count": 145,
   "id": "e352297f",
   "metadata": {},
   "outputs": [],
   "source": [
    "frases_pegadinhas = [\n",
    "    \"Ele não só estudou, mas também trabalhou muito para passar no concurso.\", # \"mas\" com sentido de adição/ênfase\n",
    "    \"Não chore mais, por favor.\", # \"mais\" como advérbio de tempo (não mais)\n",
    "    \"Ele tinha mais argumentos, mas preferiu ficar calado.\", # \"mais\" de quantidade, \"mas\" de oposição\n",
    "    \"Eu queria mais que isso, mas não consegui.\", # \"mais\" de intensidade, \"mas\" de oposição\n",
    "    \"Mais vale um pássaro na mão do que dois voando.\", # Expressão com \"mais\" (comparativo)\n",
    "    \"Não sou mais um menino, mas um homem feito.\", # \"mais\" de tempo (não sou mais), \"mas\" de oposição\n",
    "    \"Ela queria mais dinheiro, mas seu salário era baixo.\", # \"mais\" de quantidade, \"mas\" de oposição\n",
    "    \"Não se preocupe mais com isso, mas sim com o futuro.\", # \"mais\" de tempo, \"mas\" de oposição/alternativa\n",
    "    \"Eu não tenho mais dúvidas, mas sim certezas.\", # \"mais\" de quantidade (no sentido de 'não ter mais'), \"mas\" de oposição\n",
    "    \"Ele não tinha mais nada a dizer, mas precisava ir embora.\", # \"mais\" de quantidade, \"mas\" de oposição\n",
    "    \"Ainda que não goste, mas terei de fazer.\", # Embora \"mas\" aqui possa parecer redundante com \"ainda que\", em português coloquial é aceitável para reforçar a oposição.\n",
    "    \"Não quero mais problemas, mas sim soluções.\", # \"mais\" de quantidade, \"mas\" de oposição\n",
    "    \"Eu não vou mais lá, mas ele vai.\", # \"mais\" de tempo, \"mas\" de oposição\n",
    "    \"Ele queria mais livros, mas a biblioteca estava fechada.\", # \"mais\" de quantidade, \"mas\" de oposição\n",
    "    \"Ela não é mais criança, mas uma adolescente.\" # \"mais\" de tempo, \"mas\" de oposição\n",
    "]"
   ]
  },
  {
   "cell_type": "code",
   "execution_count": 146,
   "id": "6d6e3f21",
   "metadata": {},
   "outputs": [
    {
     "name": "stdout",
     "output_type": "stream",
     "text": [
      "0\n",
      "['mas de contraste']\n",
      "--------------------------------------------------\n",
      "1\n",
      "['mais de adição']\n",
      "--------------------------------------------------\n",
      "2\n",
      "['mais de adição', 'mas de contraste']\n",
      "--------------------------------------------------\n",
      "3\n",
      "['mais de adição', 'mas de contraste']\n",
      "--------------------------------------------------\n",
      "4\n",
      "['não identificado']\n",
      "--------------------------------------------------\n",
      "5\n",
      "['mais de adição', 'mas de contraste']\n",
      "--------------------------------------------------\n",
      "6\n",
      "['mais de adição', 'mas de contraste']\n",
      "--------------------------------------------------\n",
      "7\n",
      "['mais de adição', 'mas de contraste']\n",
      "--------------------------------------------------\n",
      "8\n",
      "['mais de adição', 'mas de contraste']\n",
      "--------------------------------------------------\n",
      "9\n",
      "['mais de adição', 'mas de contraste']\n",
      "--------------------------------------------------\n",
      "10\n",
      "['mas de contraste']\n",
      "--------------------------------------------------\n",
      "11\n",
      "['mais de adição', 'mas de contraste']\n",
      "--------------------------------------------------\n",
      "12\n",
      "['mais de adição', 'mas de contraste']\n",
      "--------------------------------------------------\n",
      "13\n",
      "['mais de adição', 'mas de contraste']\n",
      "--------------------------------------------------\n",
      "14\n",
      "['mais de adição', 'mas de contraste']\n",
      "--------------------------------------------------\n"
     ]
    }
   ],
   "source": [
    "for i , iten in enumerate(frases_pegadinhas):\n",
    "    print(i)\n",
    "    print(identificar_erro(iten))\n",
    "    print(\"-\"*50)"
   ]
  },
  {
   "cell_type": "code",
   "execution_count": 141,
   "id": "627f2e5f",
   "metadata": {},
   "outputs": [
    {
     "name": "stdout",
     "output_type": "stream",
     "text": [
      "0\n",
      "['mas de contraste']\n",
      "--------------------------------------------------\n",
      "1\n",
      "['mais de adição']\n",
      "--------------------------------------------------\n",
      "2\n",
      "[\"erro: 'mas' usado como 'mais'\"]\n",
      "--------------------------------------------------\n",
      "3\n",
      "[\"erro: 'mais' usado como 'mas'\"]\n",
      "--------------------------------------------------\n",
      "4\n",
      "[\"erro: 'mais' usado como 'mas'\"]\n",
      "--------------------------------------------------\n",
      "5\n",
      "[\"erro: 'mas' no final da frase\"]\n",
      "--------------------------------------------------\n",
      "6\n",
      "['mas de contraste']\n",
      "--------------------------------------------------\n",
      "7\n",
      "[\"erro: 'mais' usado como 'mas'\"]\n",
      "--------------------------------------------------\n",
      "8\n",
      "['mais de adição', 'mas de contraste']\n",
      "--------------------------------------------------\n",
      "9\n",
      "['mais de adição', \"erro: 'mais' usado como 'mas'\"]\n",
      "--------------------------------------------------\n",
      "10\n",
      "['mas de contraste']\n",
      "--------------------------------------------------\n",
      "11\n",
      "['mais de adição', 'mas de contraste']\n",
      "--------------------------------------------------\n",
      "12\n",
      "[\"erro: 'mais' usado como 'mas'\"]\n",
      "--------------------------------------------------\n",
      "13\n",
      "['mais de adição', \"erro: 'mais' usado como 'mas'\"]\n",
      "--------------------------------------------------\n",
      "14\n",
      "[\"erro: 'mas' no final da frase\"]\n",
      "--------------------------------------------------\n",
      "15\n",
      "['mais de adição']\n",
      "--------------------------------------------------\n",
      "16\n",
      "['mas de contraste']\n",
      "--------------------------------------------------\n"
     ]
    }
   ],
   "source": [
    "for i , iten in enumerate(testes):\n",
    "    print(i)\n",
    "    print(identificar_erro(iten))\n",
    "    print(\"-\"*50)"
   ]
  }
 ],
 "metadata": {
  "kernelspec": {
   "display_name": "Python 3",
   "language": "python",
   "name": "python3"
  },
  "language_info": {
   "codemirror_mode": {
    "name": "ipython",
    "version": 3
   },
   "file_extension": ".py",
   "mimetype": "text/x-python",
   "name": "python",
   "nbconvert_exporter": "python",
   "pygments_lexer": "ipython3",
   "version": "3.11.9"
  }
 },
 "nbformat": 4,
 "nbformat_minor": 5
}
