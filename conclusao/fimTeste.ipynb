{
 "cells": [
  {
   "cell_type": "code",
   "execution_count": 1,
   "id": "b4e0f1c6",
   "metadata": {},
   "outputs": [],
   "source": [
    "import nltk\n",
    "from nltk.tokenize import sent_tokenize\n",
    "import pandas as pd"
   ]
  },
  {
   "cell_type": "code",
   "execution_count": 2,
   "id": "2918a261",
   "metadata": {},
   "outputs": [
    {
     "name": "stderr",
     "output_type": "stream",
     "text": [
      "[nltk_data] Downloading package punkt to\n",
      "[nltk_data]     C:\\Users\\Vitor\\AppData\\Roaming\\nltk_data...\n",
      "[nltk_data]   Package punkt is already up-to-date!\n"
     ]
    },
    {
     "data": {
      "text/plain": [
       "True"
      ]
     },
     "execution_count": 2,
     "metadata": {},
     "output_type": "execute_result"
    }
   ],
   "source": [
    "nltk.download('punkt')"
   ]
  },
  {
   "cell_type": "code",
   "execution_count": 3,
   "id": "48313da8",
   "metadata": {},
   "outputs": [],
   "source": [
    "conectivos = [\n",
    "    \"para concluir\",\n",
    "    \"em resumo\",\n",
    "    \"em suma\",\n",
    "    \"portanto\",\n",
    "    \"assim\",\n",
    "    \"logo\",\n",
    "    \"por conseguinte\",\n",
    "    \"concluindo\",\n",
    "    \"em conclusão\",\n",
    "    \"em consequência\",\n",
    "    \"deste modo\",\n",
    "    \"por este motivo\",\n",
    "    \"desse modo\",\n",
    "    \"dessa forma\",\n",
    "    \"consequentemente\",\n",
    "    \"dessarte\",\n",
    "    \"destarte\",\n",
    "    \"em vista disso\",\n",
    "    \"em vista do exposto\",\n",
    "    \"em razão disso\",\n",
    "    \"em virtude disso\",\n",
    "    \"em decorrência disso\",\n",
    "    \"em síntese\",\n",
    "    \"em poucas palavras\",\n",
    "    \"para finalizar\",\n",
    "    \"por fim\",\n",
    "    \"em última análise\",\n",
    "    \"finalizando\",\n",
    "    \"assim sendo\",\n",
    "    \"dessa maneira\",\n",
    "    \"dessa sorte\",\n",
    "    \"dessa ordem de ideias\",\n",
    "    \"em decorrência\",\n",
    "    \"por essa razão\",\n",
    "    \"por esse motivo\",\n",
    "    \"de modo que\",\n",
    "    \"de forma que\",\n",
    "    \"enfim\",\n",
    "    \"para sintetizar\",\n",
    "    \"para resumir\",\n",
    "    \"para encerrar\",\n",
    "    \"diante disso\",\n",
    "    \"tendo em vista\",\n",
    "    \"considerando o exposto\",\n",
    "    \"posto isso\",\n",
    "    \"isso posto\",\n",
    "    \"com base nisso\",\n",
    "    \"conclui-se que\",\n",
    "    \"conclui-se\",\n",
    "    \"é possível concluir que\",\n",
    "    \"é necessário concluir que\",\n",
    "    \"a partir disso\",\n",
    "    \"como resultado\",\n",
    "    \"tudo considerado\",\n",
    "    \"à guisa de conclusão\",\n",
    "    \"urge que\",\n",
    "    \"espera-se que\",\n",
    "    \"sendo assim\",\n",
    "    \"dessa maneira\",\n",
    "    \"à luz do exposto\",\n",
    "    \"à vista disso\",\n",
    "    \"em face do exposto\",\n",
    "    \"em virtude do exposto\",\n",
    "    \"torna-se evidente que\",\n",
    "    \"torna-se claro que\",\n",
    "    \"porém\",\n",
    "    \"é necessário\",\n",
    "    \"urge\",\n",
    "    \"diante dos argumentos\",\n",
    "]"
   ]
  },
  {
   "cell_type": "code",
   "execution_count": 4,
   "id": "a746602a",
   "metadata": {},
   "outputs": [],
   "source": [
    "def extrair_trecho_final(texto, conectivos, percentFim=0.70, min_len=100, max_len=1000, minPercent=0.08):\n",
    "    \"\"\"\n",
    "    - texto (str): texto completo da redação.\n",
    "    - conectivos (list[str]): lista de conectivos conclusivos esperados (minúsculos).\n",
    "    - percentFim (float): porcentagem a partir da qual começa o trecho final (ultimos: 70%).\n",
    "    - min_len (int): comprimento mínimo aceitável para o trecho extraído.\n",
    "    - max_len (int): comprimento máximo aceitável para o trecho extraído.\n",
    "    - minPercent (float): percentual mínimo que o trecho deve representar em relação ao texto total.\n",
    "    \"\"\"\n",
    "    trecho = texto[int(len(texto) * percentFim):].strip()\n",
    "    trecho_lower = trecho.lower()\n",
    "    min_pct = len(texto) * minPercent\n",
    "\n",
    "    def valido(txt): return min_len < len(txt) < max_len and len(txt) >= min_pct\n",
    "\n",
    "    # Busca conectivo logo após um ponto, exclamação ou interrogação\n",
    "    for i, char in enumerate(trecho):\n",
    "        if char in '.!?':\n",
    "            txt = trecho[i+1:].lstrip()\n",
    "            for conj in conectivos:\n",
    "                if ' '.join(txt.split()[:len(conj.split())]).lower() == conj and valido(txt): #quebra conj para ver o tamanho\n",
    "                    print(f\"[1] Conectivo após ponto: {conj}\")\n",
    "                    return txt.strip()\n",
    "\n",
    "    # Procura conectivos em todo o trecho e classifica por maiúsculo ou minúsculo\n",
    "    maius, minus = [], []\n",
    "    for conj in conectivos:\n",
    "        pos = trecho_lower.find(conj)\n",
    "        if pos != -1:\n",
    "            orig = trecho[pos:pos+len(conj)]\n",
    "            if orig[0].isupper():\n",
    "                maius.append((pos, conj))\n",
    "            else:\n",
    "                minus.append((pos, conj))\n",
    "    maius.sort(), minus.sort()\n",
    "\n",
    "    # Se houver conectivo com inicial maiúscula, retorna a penúltima ou última ocorrência\n",
    "    if maius:\n",
    "        if len(maius) >= 2:\n",
    "            pos, conj = maius[-2]\n",
    "        else:\n",
    "            pos, conj = maius[-1]\n",
    "        txt = trecho[pos:]\n",
    "        if valido(txt):\n",
    "            print(f\"[2] Conectivo Maiúsculo encontrado: {conj}\")\n",
    "            return txt.strip()\n",
    "\n",
    "    # tenta após o primeiro ponto, se não encontrou conectivo válido\n",
    "    ponto = trecho.find('.')\n",
    "    if ponto != -1:\n",
    "        txt = trecho[ponto+1:].lstrip()\n",
    "        if valido(txt):\n",
    "            print(\"[3] ponto usado.\")\n",
    "            return txt\n",
    "\n",
    "    # Se houver conectivo minúsculo, retorna a penúltima ou última ocorrência\n",
    "    if minus:\n",
    "        if len(minus) >= 2:\n",
    "            pos, conj = minus[-2]\n",
    "        else:\n",
    "            pos, conj = minus[-1]\n",
    "        txt = trecho[pos:]\n",
    "        if valido(txt):\n",
    "            print(f\"[4] Conectivo minúsculo encontrado: {conj}\")\n",
    "            return txt.strip()\n",
    "\n",
    "    # tenta após a vírgula\n",
    "    virg = trecho.find(',')\n",
    "    if virg != -1:\n",
    "        txt = trecho[virg+1:].lstrip()\n",
    "        if valido(txt):\n",
    "            print(\"[5] vírgula usada.\")\n",
    "            return txt\n",
    "        \n",
    "    # Nada encontrado: retorna o trecho final como está\n",
    "    print(\"[6] Nenhum conectivo encontrado, retornando trecho completo.\")\n",
    "    return trecho.strip()"
   ]
  },
  {
   "cell_type": "code",
   "execution_count": 5,
   "id": "6236c199",
   "metadata": {},
   "outputs": [],
   "source": [
    "bd = pd.read_csv(\"teste val - Página1.csv\")"
   ]
  },
  {
   "cell_type": "code",
   "execution_count": 6,
   "id": "b8c8b699",
   "metadata": {},
   "outputs": [],
   "source": [
    "redacoes = bd[\"Redação\"]"
   ]
  },
  {
   "cell_type": "code",
   "execution_count": 7,
   "id": "a679c639",
   "metadata": {},
   "outputs": [],
   "source": [
    "def preencher_tabela(redacoes):\n",
    "    dados = []\n",
    "\n",
    "    for i, texto in enumerate(redacoes):\n",
    "        texto = texto.strip()\n",
    "        conclusao = extrair_trecho_final(texto, conectivos)\n",
    "        QtdeCaracteres = len(conclusao)\n",
    "        qtde_frases = len(sent_tokenize(conclusao, language=\"portuguese\"))\n",
    "        porcentagem = round((len(conclusao) / len(texto)) * 100, 2)\n",
    "\n",
    "        dados.append(\n",
    "            {\n",
    "                \"Redação\": texto,\n",
    "                \"QtdeCaracteres\": QtdeCaracteres,\n",
    "                \"Intervencao\": conclusao,\n",
    "                \"QtdeSentencasIntervencao\": qtde_frases,\n",
    "                \"PorcentagemCaracteresIntervencao\": porcentagem,\n",
    "            }\n",
    "        )\n",
    "\n",
    "    return pd.DataFrame(dados)"
   ]
  },
  {
   "cell_type": "code",
   "execution_count": 8,
   "id": "a5c37e99",
   "metadata": {},
   "outputs": [
    {
     "name": "stdout",
     "output_type": "stream",
     "text": [
      "[2] Conectivo Maiúsculo encontrado: por fim\n",
      "[2] Conectivo Maiúsculo encontrado: sendo assim\n",
      "[2] Conectivo Maiúsculo encontrado: portanto\n",
      "[2] Conectivo Maiúsculo encontrado: portanto\n",
      "[2] Conectivo Maiúsculo encontrado: dessa forma\n",
      "[3] ponto usado.\n",
      "[1] Conectivo após ponto: diante dos argumentos\n",
      "[3] ponto usado.\n",
      "[1] Conectivo após ponto: diante dos argumentos\n",
      "[2] Conectivo Maiúsculo encontrado: em conclusão\n",
      "[2] Conectivo Maiúsculo encontrado: por conseguinte\n",
      "[3] ponto usado.\n",
      "[2] Conectivo Maiúsculo encontrado: em síntese\n",
      "[2] Conectivo Maiúsculo encontrado: assim\n",
      "[2] Conectivo Maiúsculo encontrado: portanto\n",
      "[2] Conectivo Maiúsculo encontrado: desse modo\n",
      "[2] Conectivo Maiúsculo encontrado: em suma\n",
      "[3] ponto usado.\n",
      "[2] Conectivo Maiúsculo encontrado: portanto\n",
      "[2] Conectivo Maiúsculo encontrado: deste modo\n",
      "[3] ponto usado.\n"
     ]
    }
   ],
   "source": [
    "dados = preencher_tabela(redacoes)"
   ]
  },
  {
   "cell_type": "code",
   "execution_count": 9,
   "id": "dbc8dba9",
   "metadata": {},
   "outputs": [],
   "source": [
    "nome_arquivo = f\"ValidacaoRes.xlsx\"\n",
    "dados.to_excel(nome_arquivo, index=False)"
   ]
  },
  {
   "cell_type": "markdown",
   "id": "c25f7b35",
   "metadata": {},
   "source": [
    "__________________________________"
   ]
  },
  {
   "cell_type": "code",
   "execution_count": 10,
   "id": "4255ab37",
   "metadata": {},
   "outputs": [],
   "source": [
    "from difflib import SequenceMatcher\n",
    "\n",
    "def similaridade(a, b):\n",
    "    return SequenceMatcher(None, a, b).ratio()"
   ]
  },
  {
   "cell_type": "code",
   "execution_count": 11,
   "id": "9cbc253d",
   "metadata": {},
   "outputs": [],
   "source": [
    "dfT = pd.read_csv(\"teste val - Página1 (1).csv\")"
   ]
  },
  {
   "cell_type": "code",
   "execution_count": 12,
   "id": "da360930",
   "metadata": {},
   "outputs": [
    {
     "name": "stdout",
     "output_type": "stream",
     "text": [
      "Número de casos parecidos: 20 de 21\n",
      "Acuracia de: 95.24%\n"
     ]
    }
   ],
   "source": [
    "dfT[\"similaridade\"] = dfT.apply(\n",
    "    lambda row: similaridade(str(row[\"Intervencao\"]), str(row[\"Conclusão\"])), axis=1\n",
    ")\n",
    "\n",
    "# Filtra os casos onde a similaridade é boa (por exemplo, acima de 0.80)\n",
    "dfT_bons = dfT[(dfT[\"similaridade\"] >= 0.80) | (dfT[\"QtdeCaracteres\"] <= 80)]\n",
    "\n",
    "print(f\"Número de casos parecidos: {len(dfT_bons)} de {len(dfT)}\")\n",
    "acuracia = len(dfT_bons) / len(dfT) * 100\n",
    "print(f\"Acuracia de: {acuracia:.2f}%\")"
   ]
  },
  {
   "cell_type": "code",
   "execution_count": 13,
   "id": "303a8dd2",
   "metadata": {},
   "outputs": [
    {
     "name": "stdout",
     "output_type": "stream",
     "text": [
      "Número de casos parecidos: 1 de 21\n",
      "Acuracia de: 4.76%\n"
     ]
    }
   ],
   "source": [
    "dfT[\"similaridade\"] = dfT.apply(\n",
    "    lambda row: similaridade(str(row[\"Intervencao\"]), str(row[\"Conclusão\"])), axis=1\n",
    ")\n",
    "\n",
    "# Filtra os casos onde a similaridade é boa (por exemplo, acima de 0.80)\n",
    "dfT_bons = dfT[(dfT[\"similaridade\"] <= 0.80) & (dfT[\"similaridade\"] >= 0.50)]\n",
    "\n",
    "print(f\"Número de casos parecidos: {len(dfT_bons)} de {len(dfT)}\")\n",
    "acuracia = len(dfT_bons) / len(dfT) * 100\n",
    "print(f\"Acuracia de: {acuracia:.2f}%\")"
   ]
  },
  {
   "cell_type": "code",
   "execution_count": 14,
   "id": "2381a556",
   "metadata": {},
   "outputs": [
    {
     "name": "stdout",
     "output_type": "stream",
     "text": [
      "Número de casos parecidos: 0 de 21\n",
      "Acuracia de: 0.00%\n"
     ]
    }
   ],
   "source": [
    "dfT[\"similaridade\"] = dfT.apply(\n",
    "    lambda row: similaridade(str(row[\"Intervencao\"]), str(row[\"Conclusão\"])), axis=1\n",
    ")\n",
    "\n",
    "# Filtra os casos onde a similaridade é boa (por exemplo, acima de 0.80)\n",
    "dfT_bons = dfT[dfT[\"similaridade\"] <= 0.50]\n",
    "\n",
    "print(f\"Número de casos parecidos: {len(dfT_bons)} de {len(dfT)}\")\n",
    "acuracia = len(dfT_bons) / len(dfT) * 100\n",
    "print(f\"Acuracia de: {acuracia:.2f}%\")"
   ]
  }
 ],
 "metadata": {
  "kernelspec": {
   "display_name": "Python 3",
   "language": "python",
   "name": "python3"
  },
  "language_info": {
   "codemirror_mode": {
    "name": "ipython",
    "version": 3
   },
   "file_extension": ".py",
   "mimetype": "text/x-python",
   "name": "python",
   "nbconvert_exporter": "python",
   "pygments_lexer": "ipython3",
   "version": "3.11.9"
  }
 },
 "nbformat": 4,
 "nbformat_minor": 5
}
